{
  "nbformat": 4,
  "nbformat_minor": 0,
  "metadata": {
    "colab": {
      "provenance": [],
      "authorship_tag": "ABX9TyM94j/DgARAhvjeIkUHAD8h",
      "include_colab_link": true
    },
    "kernelspec": {
      "name": "python3",
      "display_name": "Python 3"
    },
    "language_info": {
      "name": "python"
    }
  },
  "cells": [
    {
      "cell_type": "markdown",
      "metadata": {
        "id": "view-in-github",
        "colab_type": "text"
      },
      "source": [
        "<a href=\"https://colab.research.google.com/github/KHamdyFAN/KHamdyFAN/blob/MI/Lab04.ipynb\" target=\"_parent\"><img src=\"https://colab.research.google.com/assets/colab-badge.svg\" alt=\"Open In Colab\"/></a>"
      ]
    },
    {
      "cell_type": "code",
      "execution_count": 1,
      "metadata": {
        "colab": {
          "base_uri": "https://localhost:8080/"
        },
        "id": "BBzM4RYPEWff",
        "outputId": "ea454fc2-4f7b-4bad-dca5-6d2a9b706aa3"
      },
      "outputs": [
        {
          "output_type": "stream",
          "name": "stdout",
          "text": [
            "<class 'pandas.core.frame.DataFrame'>\n",
            "RangeIndex: 10000 entries, 0 to 9999\n",
            "Data columns (total 6 columns):\n",
            " #   Column                            Non-Null Count  Dtype  \n",
            "---  ------                            --------------  -----  \n",
            " 0   Hours Studied                     10000 non-null  int64  \n",
            " 1   Previous Scores                   10000 non-null  int64  \n",
            " 2   Extracurricular Activities        10000 non-null  object \n",
            " 3   Sleep Hours                       10000 non-null  int64  \n",
            " 4   Sample Question Papers Practiced  10000 non-null  int64  \n",
            " 5   Performance Index                 10000 non-null  float64\n",
            "dtypes: float64(1), int64(4), object(1)\n",
            "memory usage: 468.9+ KB\n"
          ]
        }
      ],
      "source": [
        "import numpy as np\n",
        "import pandas as pd\n",
        "\n",
        "df = pd.read_csv('/content/Student_Performance.csv')\n",
        "\n",
        "df.head()\n",
        "\n",
        "df.describe()\n",
        "\n",
        "df.info()"
      ]
    },
    {
      "cell_type": "markdown",
      "source": [
        "# Data Processing"
      ],
      "metadata": {
        "id": "UWfygdJWwKQB"
      }
    },
    {
      "cell_type": "code",
      "source": [
        "# One Hot Encoding\n",
        "data = pd.get_dummies(df, columns=['Extracurricular Activities'], prefix=['Extracurricular Activities'])\n",
        "\n",
        "X = data.drop('Performance Index', axis=1)\n",
        "y = data['Performance Index']\n",
        "\n",
        "from sklearn.model_selection import train_test_split\n",
        "\n",
        "X_train, X_test, y_train, y_test = train_test_split(X, y, test_size=0.2, random_state=42)"
      ],
      "metadata": {
        "id": "yG4ZqnfVhEDZ"
      },
      "execution_count": 2,
      "outputs": []
    },
    {
      "cell_type": "markdown",
      "source": [
        "# Modeling"
      ],
      "metadata": {
        "id": "p0WCowtNw0Wc"
      }
    },
    {
      "cell_type": "code",
      "source": [
        "from sklearn.neural_network import MLPRegressor\n",
        "from sklearn.metrics import mean_squared_error, r2_score\n",
        "from sklearn.ensemble import GradientBoostingRegressor\n",
        "\n",
        "# Initialize and train MLPRegressor\n",
        "mlp_reg = MLPRegressor(hidden_layer_sizes=(50, 30), max_iter=1000, random_state=0)\n",
        "mlp_reg.fit(X_train, y_train)\n",
        "\n",
        "# Predictions\n",
        "y_pred = mlp_reg.predict(X_test)\n",
        "\n",
        "# Model Performance\n",
        "print(\"Mean Squared Error (MLPRegressor):\", mean_squared_error(y_test, y_pred))\n",
        "print(\"R^2 Score (MLPRegressor):\", r2_score(y_test, y_pred))\n",
        "\n",
        "# Initialize and train GradientBoostingRegressor\n",
        "gb_reg = GradientBoostingRegressor(n_estimators=100, learning_rate=0.1, random_state=0)\n",
        "gb_reg.fit(X_train, y_train)\n",
        "\n",
        "# Predictions\n",
        "y_pred = gb_reg.predict(X_test)\n",
        "\n",
        "# Model Performance Metrics\n",
        "print(\"Mean Squared Error (GradientBoostingRegressor):\", mean_squared_error(y_test, y_pred))\n",
        "print(\"R^2 Score (GradientBoostingRegressor):\", r2_score(y_test, y_pred))"
      ],
      "metadata": {
        "colab": {
          "base_uri": "https://localhost:8080/"
        },
        "id": "oXDLPHZvutvX",
        "outputId": "dcdbdd84-d39b-446e-8dbf-20cc158731aa"
      },
      "execution_count": 4,
      "outputs": [
        {
          "output_type": "stream",
          "name": "stdout",
          "text": [
            "Mean Squared Error (MLPRegressor): 4.159348015839194\n",
            "R^2 Score (MLPRegressor): 0.9887762680251865\n",
            "Mean Squared Error (GradientBoostingRegressor): 4.3646358483014325\n",
            "R^2 Score (GradientBoostingRegressor): 0.9882223120685143\n"
          ]
        }
      ]
    },
    {
      "cell_type": "markdown",
      "source": [
        "# Mean Squre has slightly better MSE but both models are almost similar"
      ],
      "metadata": {
        "id": "clH71QfzxVhl"
      }
    }
  ]
}
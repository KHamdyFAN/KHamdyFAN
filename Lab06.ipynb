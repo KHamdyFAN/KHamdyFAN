{
  "nbformat": 4,
  "nbformat_minor": 0,
  "metadata": {
    "colab": {
      "provenance": [],
      "authorship_tag": "ABX9TyPquagEoBjtZ12BV3Yi7roW",
      "include_colab_link": true
    },
    "kernelspec": {
      "name": "python3",
      "display_name": "Python 3"
    },
    "language_info": {
      "name": "python"
    }
  },
  "cells": [
    {
      "cell_type": "markdown",
      "metadata": {
        "id": "view-in-github",
        "colab_type": "text"
      },
      "source": [
        "<a href=\"https://colab.research.google.com/github/KHamdyFAN/KHamdyFAN/blob/ML/Lab06.ipynb\" target=\"_parent\"><img src=\"https://colab.research.google.com/assets/colab-badge.svg\" alt=\"Open In Colab\"/></a>"
      ]
    },
    {
      "cell_type": "code",
      "execution_count": 17,
      "metadata": {
        "colab": {
          "base_uri": "https://localhost:8080/"
        },
        "id": "imd388xU57P8",
        "outputId": "dddad09e-bbb1-4911-9bcb-63b0a647e66d"
      },
      "outputs": [
        {
          "output_type": "stream",
          "name": "stdout",
          "text": [
            "Age                       0\n",
            "Race                      0\n",
            "Marital Status            0\n",
            "T Stage                   0\n",
            "N Stage                   0\n",
            "6th Stage                 0\n",
            "differentiate             0\n",
            "Grade                     0\n",
            "A Stage                   0\n",
            "Tumor Size                0\n",
            "Estrogen Status           0\n",
            "Progesterone Status       0\n",
            "Regional Node Examined    0\n",
            "Reginol Node Positive     0\n",
            "Survival Months           0\n",
            "Status                    0\n",
            "dtype: int64\n",
            "   Age   Race Marital Status T Stage  N Stage 6th Stage  \\\n",
            "0   68  White        Married       T1      N1       IIA   \n",
            "1   50  White        Married       T2      N2      IIIA   \n",
            "2   58  White       Divorced       T3      N3      IIIC   \n",
            "3   58  White        Married       T1      N1       IIA   \n",
            "4   47  White        Married       T2      N1       IIB   \n",
            "\n",
            "               differentiate Grade   A Stage  Tumor Size Estrogen Status  \\\n",
            "0      Poorly differentiated     3  Regional           4        Positive   \n",
            "1  Moderately differentiated     2  Regional          35        Positive   \n",
            "2  Moderately differentiated     2  Regional          63        Positive   \n",
            "3      Poorly differentiated     3  Regional          18        Positive   \n",
            "4      Poorly differentiated     3  Regional          41        Positive   \n",
            "\n",
            "  Progesterone Status  Regional Node Examined  Reginol Node Positive  \\\n",
            "0            Positive                      24                      1   \n",
            "1            Positive                      14                      5   \n",
            "2            Positive                      14                      7   \n",
            "3            Positive                       2                      1   \n",
            "4            Positive                       3                      1   \n",
            "\n",
            "   Survival Months Status  \n",
            "0               60  Alive  \n",
            "1               62  Alive  \n",
            "2               75  Alive  \n",
            "3               84  Alive  \n",
            "4               50  Alive  \n",
            "<class 'pandas.core.frame.DataFrame'>\n",
            "RangeIndex: 4024 entries, 0 to 4023\n",
            "Data columns (total 16 columns):\n",
            " #   Column                  Non-Null Count  Dtype \n",
            "---  ------                  --------------  ----- \n",
            " 0   Age                     4024 non-null   int64 \n",
            " 1   Race                    4024 non-null   object\n",
            " 2   Marital Status          4024 non-null   object\n",
            " 3   T Stage                 4024 non-null   object\n",
            " 4   N Stage                 4024 non-null   object\n",
            " 5   6th Stage               4024 non-null   object\n",
            " 6   differentiate           4024 non-null   object\n",
            " 7   Grade                   4024 non-null   object\n",
            " 8   A Stage                 4024 non-null   object\n",
            " 9   Tumor Size              4024 non-null   int64 \n",
            " 10  Estrogen Status         4024 non-null   object\n",
            " 11  Progesterone Status     4024 non-null   object\n",
            " 12  Regional Node Examined  4024 non-null   int64 \n",
            " 13  Reginol Node Positive   4024 non-null   int64 \n",
            " 14  Survival Months         4024 non-null   int64 \n",
            " 15  Status                  4024 non-null   object\n",
            "dtypes: int64(5), object(11)\n",
            "memory usage: 503.1+ KB\n",
            "None\n",
            "['Age', 'Race', 'Marital Status', 'T Stage ', 'N Stage', '6th Stage', 'differentiate', 'Grade', 'A Stage', 'Tumor Size', 'Estrogen Status', 'Progesterone Status', 'Regional Node Examined', 'Reginol Node Positive', 'Survival Months', 'Status']\n",
            "   Age  Tumor Size  Regional Node Examined  Reginol Node Positive  \\\n",
            "0   68           4                      24                      1   \n",
            "1   50          35                      14                      5   \n",
            "2   58          63                      14                      7   \n",
            "3   58          18                       2                      1   \n",
            "4   47          41                       3                      1   \n",
            "\n",
            "   Survival Months  Status  Race_Black  Race_Other  Race_White  \\\n",
            "0               60       1       False       False        True   \n",
            "1               62       1       False       False        True   \n",
            "2               75       1       False       False        True   \n",
            "3               84       1       False       False        True   \n",
            "4               50       1       False       False        True   \n",
            "\n",
            "   Marital Status_Divorced  ...  Grade_ anaplastic; Grade IV  Grade_1  \\\n",
            "0                    False  ...                        False    False   \n",
            "1                    False  ...                        False    False   \n",
            "2                     True  ...                        False    False   \n",
            "3                    False  ...                        False    False   \n",
            "4                    False  ...                        False    False   \n",
            "\n",
            "   Grade_2  Grade_3  A Stage_Distant  A Stage_Regional  \\\n",
            "0    False     True            False              True   \n",
            "1     True    False            False              True   \n",
            "2     True    False            False              True   \n",
            "3    False     True            False              True   \n",
            "4    False     True            False              True   \n",
            "\n",
            "   Estrogen Status_Negative  Estrogen Status_Positive  \\\n",
            "0                     False                      True   \n",
            "1                     False                      True   \n",
            "2                     False                      True   \n",
            "3                     False                      True   \n",
            "4                     False                      True   \n",
            "\n",
            "   Progesterone Status_Negative  Progesterone Status_Positive  \n",
            "0                         False                          True  \n",
            "1                         False                          True  \n",
            "2                         False                          True  \n",
            "3                         False                          True  \n",
            "4                         False                          True  \n",
            "\n",
            "[5 rows x 40 columns]\n"
          ]
        }
      ],
      "source": [
        "import numpy as np\n",
        "import pandas as pd\n",
        "from sklearn.model_selection import train_test_split\n",
        "from sklearn.neural_network import MLPClassifier\n",
        "from sklearn.linear_model import LogisticRegression\n",
        "from sklearn.metrics import accuracy_score, recall_score, precision_score, f1_score\n",
        "\n",
        "df = pd.read_csv('Breast_Cancer.csv')\n",
        "\n",
        "print(df.isna().sum())\n",
        "\n",
        "print(df.head())\n",
        "\n",
        "print(df.info())\n",
        "\n",
        "\n",
        "print(df.columns.tolist())\n",
        "\n",
        "df['Status'] = df['Status'].map({'Alive': 1, 'Dead': 0})\n",
        "df_encoded = pd.get_dummies(df, columns=['Race', 'Marital Status', 'T Stage ', 'N Stage', '6th Stage','differentiate', 'Grade', 'A Stage', 'Estrogen Status', 'Progesterone Status'])\n",
        "print(df_encoded.head())\n",
        "\n",
        "X = df_encoded.drop('Status', axis=1)\n",
        "y = df_encoded['Status']\n",
        "\n",
        "X_train, X_test, y_train, y_test = train_test_split(X, y, test_size=0.2, random_state=42)"
      ]
    },
    {
      "cell_type": "code",
      "source": [
        "# Train Neural Network\n",
        "mlp = MLPClassifier(hidden_layer_sizes=(10, 10), max_iter=500, random_state=42)\n",
        "mlp.fit(X_train, y_train)\n",
        "mlp_predictions = mlp.predict(X_test)\n",
        "\n",
        "# Train Logistic Regression\n",
        "log_reg = LogisticRegression(random_state=42, max_iter=200)\n",
        "log_reg.fit(X_train, y_train)\n",
        "log_reg_predictions = log_reg.predict(X_test)"
      ],
      "metadata": {
        "colab": {
          "base_uri": "https://localhost:8080/"
        },
        "id": "0Qfj6dlk9Rof",
        "outputId": "d269eb7f-7e2f-49a3-b1cd-85b3dabefae0"
      },
      "execution_count": 18,
      "outputs": [
        {
          "output_type": "stream",
          "name": "stderr",
          "text": [
            "/usr/local/lib/python3.10/dist-packages/sklearn/linear_model/_logistic.py:469: ConvergenceWarning: lbfgs failed to converge (status=1):\n",
            "STOP: TOTAL NO. of ITERATIONS REACHED LIMIT.\n",
            "\n",
            "Increase the number of iterations (max_iter) or scale the data as shown in:\n",
            "    https://scikit-learn.org/stable/modules/preprocessing.html\n",
            "Please also refer to the documentation for alternative solver options:\n",
            "    https://scikit-learn.org/stable/modules/linear_model.html#logistic-regression\n",
            "  n_iter_i = _check_optimize_result(\n"
          ]
        }
      ]
    },
    {
      "cell_type": "code",
      "source": [
        "# Evaluation Metrics\n",
        "models = {\n",
        "    \"Neural Network\": mlp_predictions,\n",
        "    \"Logistic Regression\": log_reg_predictions\n",
        "}\n",
        "\n",
        "results = {}\n",
        "for model_name, predictions in models.items():\n",
        "    results[model_name] = {\n",
        "        \"Accuracy\": accuracy_score(y_test, predictions),\n",
        "        \"Recall\": recall_score(y_test, predictions),\n",
        "        \"Precision\": precision_score(y_test, predictions),\n",
        "        \"F1 Score\": f1_score(y_test, predictions)\n",
        "    }\n",
        "\n",
        "# Display Results\n",
        "print(\"\\nPerformance Metrics:\")\n",
        "for model_name, metrics in results.items():\n",
        "    print(f\"\\n{model_name}:\")\n",
        "    for metric, value in metrics.items():\n",
        "        print(f\"  {metric}: {value:.2f}\")"
      ],
      "metadata": {
        "colab": {
          "base_uri": "https://localhost:8080/"
        },
        "id": "bsK8EF52-YCg",
        "outputId": "014338f8-e12e-41c4-f1b1-19df1ee7330c"
      },
      "execution_count": 20,
      "outputs": [
        {
          "output_type": "stream",
          "name": "stdout",
          "text": [
            "\n",
            "Performance Metrics:\n",
            "\n",
            "Neural Network:\n",
            "  Accuracy: 0.90\n",
            "  Recall: 0.97\n",
            "  Precision: 0.92\n",
            "  F1 Score: 0.94\n",
            "\n",
            "Logistic Regression:\n",
            "  Accuracy: 0.90\n",
            "  Recall: 0.98\n",
            "  Precision: 0.91\n",
            "  F1 Score: 0.94\n"
          ]
        }
      ]
    },
    {
      "cell_type": "markdown",
      "source": [
        "Conclusion:\n",
        "\n",
        "Both models performed so good, almost similar."
      ],
      "metadata": {
        "id": "9ddAroh_ASSN"
      }
    }
  ]
}
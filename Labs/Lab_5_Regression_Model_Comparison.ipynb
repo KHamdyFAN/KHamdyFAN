{
  "nbformat": 4,
  "nbformat_minor": 0,
  "metadata": {
    "colab": {
      "provenance": [],
      "authorship_tag": "ABX9TyPYZZMYEQQ93OQNI8s3cv+j",
      "include_colab_link": true
    },
    "kernelspec": {
      "name": "python3",
      "display_name": "Python 3"
    },
    "language_info": {
      "name": "python"
    }
  },
  "cells": [
    {
      "cell_type": "markdown",
      "metadata": {
        "id": "view-in-github",
        "colab_type": "text"
      },
      "source": [
        "<a href=\"https://colab.research.google.com/github/KHamdyFAN/KHamdyFAN/blob/ML/Lab_5_Regression_Model_Comparison.ipynb\" target=\"_parent\"><img src=\"https://colab.research.google.com/assets/colab-badge.svg\" alt=\"Open In Colab\"/></a>"
      ]
    },
    {
      "cell_type": "code",
      "execution_count": 3,
      "metadata": {
        "colab": {
          "base_uri": "https://localhost:8080/"
        },
        "id": "1B16bNUeWHQD",
        "outputId": "f3305028-e760-4245-ea78-9eaa3018760b"
      },
      "outputs": [
        {
          "output_type": "stream",
          "name": "stdout",
          "text": [
            "   age     sex     bmi  children smoker     region      charges\n",
            "0   19  female  27.900         0    yes  southwest  16884.92400\n",
            "1   18    male  33.770         1     no  southeast   1725.55230\n",
            "2   28    male  33.000         3     no  southeast   4449.46200\n",
            "3   33    male  22.705         0     no  northwest  21984.47061\n",
            "4   32    male  28.880         0     no  northwest   3866.85520\n",
            "age         0\n",
            "sex         0\n",
            "bmi         0\n",
            "children    0\n",
            "smoker      0\n",
            "region      0\n",
            "charges     0\n",
            "dtype: int64\n",
            "   age     bmi  children      charges  sex_female  sex_male  smoker_no  \\\n",
            "0   19  27.900         0  16884.92400        True     False      False   \n",
            "1   18  33.770         1   1725.55230       False      True       True   \n",
            "2   28  33.000         3   4449.46200       False      True       True   \n",
            "3   33  22.705         0  21984.47061       False      True       True   \n",
            "4   32  28.880         0   3866.85520       False      True       True   \n",
            "\n",
            "   smoker_yes  region_northeast  region_northwest  region_southeast  \\\n",
            "0        True             False             False             False   \n",
            "1       False             False             False              True   \n",
            "2       False             False             False              True   \n",
            "3       False             False              True             False   \n",
            "4       False             False              True             False   \n",
            "\n",
            "   region_southwest  \n",
            "0              True  \n",
            "1             False  \n",
            "2             False  \n",
            "3             False  \n",
            "4             False  \n"
          ]
        }
      ],
      "source": [
        "import pandas as pd\n",
        "import numpy as np\n",
        "\n",
        "df = pd.read_csv('insurance[1].csv')\n",
        "\n",
        "print(df.head())\n",
        "print(df.isna().sum())\n",
        "\n",
        "df = pd.get_dummies(df, columns=['sex', 'smoker', 'region'], prefix=['sex','smoker','region'])\n",
        "\n",
        "print(df.head())\n",
        "\n",
        "from sklearn.model_selection import train_test_split\n",
        "\n",
        "X = df.drop('charges', axis=1)\n",
        "y = df['charges']"
      ]
    },
    {
      "cell_type": "code",
      "source": [
        "from sklearn.model_selection import train_test_split\n",
        "from sklearn.linear_model import LinearRegression, Lasso\n",
        "from sklearn.neural_network import MLPRegressor\n",
        "from sklearn.ensemble import GradientBoostingRegressor\n",
        "from sklearn.svm import SVR\n",
        "from sklearn.metrics import mean_squared_error\n",
        "\n",
        "# Split the dataset into training and testing sets\n",
        "X_train, X_test, y_train, y_test = train_test_split(X, y, test_size=0.2, random_state=42)\n",
        "\n",
        "# Instantiate the models\n",
        "lr_model = LinearRegression()\n",
        "lasso_model = Lasso()\n",
        "mlp_model = MLPRegressor()\n",
        "gbr_model = GradientBoostingRegressor()\n",
        "svr_model = SVR()\n",
        "\n",
        "# List of models\n",
        "models = [lr_model, lasso_model, mlp_model, gbr_model, svr_model]\n",
        "\n",
        "# Fit and evaluate each model\n",
        "for model in models:\n",
        "    # Train the model\n",
        "    model.fit(X_train, y_train)\n",
        "\n",
        "    # Predict on the test set\n",
        "    y_pred = model.predict(X_test)\n",
        "\n",
        "    # Calculate Mean Squared Error\n",
        "    mse = mean_squared_error(y_test, y_pred)\n",
        "\n",
        "    # Display the model name and MSE\n",
        "    print(f\"{model} MSE: {mse}\\n\")"
      ],
      "metadata": {
        "colab": {
          "base_uri": "https://localhost:8080/"
        },
        "id": "457PZZ5cWT-5",
        "outputId": "83883164-1fdb-4b4e-c36b-e5d98ed84b52"
      },
      "execution_count": 4,
      "outputs": [
        {
          "output_type": "stream",
          "name": "stdout",
          "text": [
            "LinearRegression() MSE: 33596915.85136148\n",
            "\n",
            "Lasso() MSE: 33605932.380070224\n",
            "\n"
          ]
        },
        {
          "output_type": "stream",
          "name": "stderr",
          "text": [
            "/usr/local/lib/python3.10/dist-packages/sklearn/neural_network/_multilayer_perceptron.py:690: ConvergenceWarning: Stochastic Optimizer: Maximum iterations (200) reached and the optimization hasn't converged yet.\n",
            "  warnings.warn(\n"
          ]
        },
        {
          "output_type": "stream",
          "name": "stdout",
          "text": [
            "MLPRegressor() MSE: 145493962.2077693\n",
            "\n",
            "GradientBoostingRegressor() MSE: 18725835.461787462\n",
            "\n",
            "SVR() MSE: 166502152.13488975\n",
            "\n"
          ]
        }
      ]
    },
    {
      "cell_type": "markdown",
      "source": [
        "Conculsion:\n",
        "\n",
        "The GradientBoostingRegressor is the most effective model for your dataset, achieving the lowest MSE."
      ],
      "metadata": {
        "id": "ngs1fiv68H4f"
      }
    }
  ]
}
